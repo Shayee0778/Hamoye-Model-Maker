{
  "cells": [
    {
      "cell_type": "markdown",
      "metadata": {
        "id": "view-in-github",
        "colab_type": "text"
      },
      "source": [
        "<a href=\"https://colab.research.google.com/github/Shayee0778/Hamoye-Model-Maker/blob/main/Model_makers_Premiere_project.ipynb\" target=\"_parent\"><img src=\"https://colab.research.google.com/assets/colab-badge.svg\" alt=\"Open In Colab\"/></a>"
      ]
    },
    {
      "cell_type": "markdown",
      "source": [
        "# Drought Data Analysis By Team ModelMakers\n",
        "\n",
        "## Table of Contents\n",
        "<ul>\n",
        "<li><a href=\"#intro\">Introduction</a></li>\n",
        "<li><a href=\"#eda\">Exploratory Data Analysis</a></li>\n",
        "<li><a href=\"#conclusions\">Conclusions</a></li>\n",
        "</ul>"
      ],
      "metadata": {
        "id": "v_AxTGvBK7BR"
      }
    },
    {
      "cell_type": "markdown",
      "metadata": {
        "id": "74CYvG6Snm0W"
      },
      "source": [
        "Topic -"
      ]
    },
    {
      "cell_type": "code",
      "execution_count": 277,
      "metadata": {
        "id": "HKvaz2839gcj"
      },
      "outputs": [],
      "source": [
        " #import the needed libraries\n",
        "import numpy as np\n",
        "import pandas as pd\n",
        "import matplotlib.pyplot as plt\n",
        "import seaborn as sns\n",
        "import plotly.express as px\n",
        "%matplotlib inline"
      ]
    },
    {
      "cell_type": "code",
      "source": [
        "from google.colab import drive\n",
        "drive.mount('/content/drive')"
      ],
      "metadata": {
        "colab": {
          "base_uri": "https://localhost:8080/"
        },
        "id": "DRvBobgepdkX",
        "outputId": "7698a18b-c518-4f62-9c6b-b6a56ab13fa8"
      },
      "execution_count": 278,
      "outputs": [
        {
          "output_type": "stream",
          "name": "stdout",
          "text": [
            "Drive already mounted at /content/drive; to attempt to forcibly remount, call drive.mount(\"/content/drive\", force_remount=True).\n"
          ]
        }
      ]
    },
    {
      "cell_type": "code",
      "execution_count": null,
      "metadata": {
        "id": "bFMi51dO_WcD"
      },
      "outputs": [],
      "source": [
        "#Load the dataset\n",
        "df= pd.read_excel('/content/drive/MyDrive/public_emdat_custom_request.xlsx')\n",
        "df.head()"
      ]
    },
    {
      "cell_type": "markdown",
      "metadata": {
        "id": "fqKfZe2DpH3G"
      },
      "source": [
        "# New section"
      ]
    },
    {
      "cell_type": "code",
      "execution_count": null,
      "metadata": {
        "id": "ccHn3FUYE2rl"
      },
      "outputs": [],
      "source": [
        "#check shape of dataset\n",
        "df.shape"
      ]
    },
    {
      "cell_type": "code",
      "execution_count": null,
      "metadata": {
        "id": "gurjyV1UFo-x"
      },
      "outputs": [],
      "source": [
        "#check for the data type of the columns\n",
        "df.info()"
      ]
    },
    {
      "cell_type": "code",
      "execution_count": null,
      "metadata": {
        "id": "ftwoRD4kGA1j"
      },
      "outputs": [],
      "source": [
        "#check for the data description\n",
        "df.describe()"
      ]
    },
    {
      "cell_type": "code",
      "execution_count": null,
      "metadata": {
        "id": "yC5_llDZGrFk"
      },
      "outputs": [],
      "source": [
        "#check for null values\n",
        "df.isnull().sum()"
      ]
    },
    {
      "cell_type": "code",
      "execution_count": null,
      "metadata": {
        "id": "D-h5myGtHRsj"
      },
      "outputs": [],
      "source": [
        "#dropping all completely empty columns\n",
        "df= df.dropna(axis='columns', how='all')\n",
        "df.head()"
      ]
    },
    {
      "cell_type": "code",
      "execution_count": null,
      "metadata": {
        "id": "UrS_0cpIHnGi"
      },
      "outputs": [],
      "source": [
        "#checking null values\n",
        "df.isnull().sum()"
      ]
    },
    {
      "cell_type": "code",
      "source": [
        "#checking duplicate values\n",
        "df.duplicated().sum()"
      ],
      "metadata": {
        "id": "qePT18VBfsc3"
      },
      "execution_count": null,
      "outputs": []
    },
    {
      "cell_type": "code",
      "execution_count": null,
      "metadata": {
        "id": "rxFcJ21YIGM9"
      },
      "outputs": [],
      "source": [
        "#removing other insignificant columns with large null values, columns with only one unique value and high missing values\n",
        "cols_to_drop = ['DisNo.', 'Classification Key',  \"Magnitude\", \"AID Contribution ('000 US$)\",\"End Day\", \"Start Day\",\"External IDs\",\n",
        "                 \"AID Contribution ('000 US$)\",'Start Day','Historic','Disaster Group',\n",
        "                'Disaster Subgroup', 'Disaster Type', 'Disaster Subtype', 'Region', 'Magnitude Scale', 'Admin Units',\t'Entry Date',\t'Last Update', 'No. Affected']\n",
        "df.drop(columns=cols_to_drop, axis=1, inplace=True)\n",
        "df.columns"
      ]
    },
    {
      "cell_type": "code",
      "execution_count": null,
      "metadata": {
        "id": "bkhbuhSzVY9x"
      },
      "outputs": [],
      "source": [
        "#checking the null values\n",
        "df.isnull().sum().sort_values()"
      ]
    },
    {
      "cell_type": "code",
      "execution_count": null,
      "metadata": {
        "id": "dbI1A04I6hhn"
      },
      "outputs": [],
      "source": [
        "#checking the columns data type\n",
        "df.info()"
      ]
    },
    {
      "cell_type": "code",
      "execution_count": null,
      "metadata": {
        "id": "lzrDSFb6cuaT"
      },
      "outputs": [],
      "source": [
        "#Rechecking empty rows\n",
        "df.isnull().sum()"
      ]
    },
    {
      "cell_type": "code",
      "execution_count": null,
      "metadata": {
        "id": "PNgdMEQeo2ew"
      },
      "outputs": [],
      "source": [
        "#Fill empty rows with 0(zero) for the specified columns to indicate that the month number was not specified\n",
        "columns_to_fill = ['Start Month', 'End Month']\n",
        "for column_name in columns_to_fill:\n",
        "    df.loc[df[column_name].isna(), column_name] = 0\n",
        "df.head()"
      ]
    },
    {
      "cell_type": "code",
      "execution_count": null,
      "metadata": {
        "id": "s4d5q5bv74lN"
      },
      "outputs": [],
      "source": [
        "#Rechecking empty rows\n",
        "df.isnull().sum()"
      ]
    },
    {
      "cell_type": "code",
      "execution_count": null,
      "metadata": {
        "id": "BjFWIRB0794Y"
      },
      "outputs": [],
      "source": [
        "#Fill empty rows with 'not specified' for the columns with object data type\n",
        "columns_to_fill = ['Origin', 'Location','Associated Types']\n",
        "for column_name in columns_to_fill:\n",
        "    df.loc[df[column_name].isna(), column_name] = 'Not specified'\n",
        "df.head()"
      ]
    },
    {
      "cell_type": "code",
      "execution_count": null,
      "metadata": {
        "id": "ido9Hmj28iFd"
      },
      "outputs": [],
      "source": [
        "#Rechecking empty rows\n",
        "df.isnull().sum()"
      ]
    },
    {
      "cell_type": "code",
      "source": [
        "\n",
        "# Change data types\n",
        "type_dict = { #\"Total Affected\" : \"int64\",\n",
        "             \"Country\": 'category',\n",
        "             \"Subregion\": \"category\",\n",
        "             \"Origin\": \"category\",\n",
        "             \"OFDA Response\": \"category\",\n",
        "             \"Appeal\": \"category\",\n",
        "             \"Declaration\": \"category\",\n",
        "             'Start Year': 'category',\n",
        "             'End Year': 'category'\n",
        "}\n",
        "\n",
        "for key, value in type_dict.items():\n",
        "  df[key] = df[key].astype(value)\n",
        "df.info()"
      ],
      "metadata": {
        "id": "CeQ1b8u6lSNp"
      },
      "execution_count": null,
      "outputs": []
    },
    {
      "cell_type": "code",
      "source": [
        "#\"Total Affected\" : \"int64\"\n",
        "\n",
        "df['Total Affected'] = pd.to_numeric(df['Total Affected'], errors='coerce').fillna(0).astype(int)"
      ],
      "metadata": {
        "id": "PDjjbnaiBvuw"
      },
      "execution_count": 296,
      "outputs": []
    },
    {
      "cell_type": "code",
      "source": [
        "# Import the UNICEF regional data\n",
        "regions_df = pd.read_excel(\"/content/drive/MyDrive/Colab Notebooks/JME_Regional-Classifications.xlsx\")[['ISO Code', 'UN Sub Region', 'World Bank Income Groups Combined']]\n",
        "regions_df.head()"
      ],
      "metadata": {
        "id": "mrITtiTxlSKu"
      },
      "execution_count": null,
      "outputs": []
    },
    {
      "cell_type": "code",
      "source": [
        "# merge the regions data with the original table\n",
        "df = pd.merge(left=df, right=regions_df, left_on = 'ISO', right_on = 'ISO Code', how='left')\n",
        "df = df.drop(columns=['ISO Code'])\n",
        "df"
      ],
      "metadata": {
        "id": "CFydPkH2lSIK"
      },
      "execution_count": null,
      "outputs": []
    },
    {
      "cell_type": "code",
      "source": [
        "# Rename column\n",
        "df = df.rename(columns={\n",
        "    \"World Bank Income Groups Combined\": \"Income group\"\n",
        "})\n",
        "# Export cleaned data\n",
        "#df.to_csv('drought_data_cleaned.csv', index=False)"
      ],
      "metadata": {
        "id": "BvuWaMxdlSEq"
      },
      "execution_count": 299,
      "outputs": []
    },
    {
      "cell_type": "markdown",
      "source": [],
      "metadata": {
        "id": "xapc7ictLz9X"
      }
    },
    {
      "cell_type": "markdown",
      "source": [
        "<a id='eda'></a>\n",
        "## Exploratory Data Analysis\n",
        "\n",
        "> **Tip**: Now that you've trimmed and cleaned your data, you're ready to move on to exploration. Compute statistics and create visualizations with the goal of addressing the research questions that you posed in the Introduction section. It is recommended that you be systematic with your approach. Look at one variable at a time, and then follow it up by looking at relationships between variables."
      ],
      "metadata": {
        "id": "OxZBx9t1L3YC"
      }
    },
    {
      "cell_type": "markdown",
      "source": [
        "## Research Questions\n",
        "\n",
        "the dataset contains information on the occurence of drought in africa. This analysis aims to answer the following:\n",
        "\n",
        "### 1. who were the worst hit? what is their distribution per:\n",
        "\n",
        "- country\n",
        "- region\n",
        "- income group\n",
        "\n",
        "### 2. what are the effects of drought?\n",
        "- direct\n",
        "- secondary"
      ],
      "metadata": {
        "id": "RsuqEchDLzrH"
      }
    },
    {
      "cell_type": "code",
      "source": [
        "df.head(1)"
      ],
      "metadata": {
        "id": "g70KsjAaFDeb"
      },
      "execution_count": null,
      "outputs": []
    },
    {
      "cell_type": "code",
      "source": [
        "map_df = df.groupby('Country').sum().reset_index()\n",
        "map_df\n",
        "# ['Total Affected'].describe()"
      ],
      "metadata": {
        "id": "M1Kyh1SlFS6I"
      },
      "execution_count": null,
      "outputs": []
    },
    {
      "cell_type": "markdown",
      "source": [
        "**UNIVARIATE**"
      ],
      "metadata": {
        "id": "Nx429YZRiAVQ"
      }
    },
    {
      "cell_type": "code",
      "source": [
        "\n",
        "# px.boxplot(data_frame=map_df2, column'Total Affected')\n",
        "px.box(data_frame=map_df, x='Total Affected')\n",
        "# px.box(map_df, y='ISO', x='Total Affected', range_x = [10000000, 30000000])"
      ],
      "metadata": {
        "id": "NyYZ-H0F94F6"
      },
      "execution_count": null,
      "outputs": []
    },
    {
      "cell_type": "markdown",
      "source": [
        "__OBSERVATION__\n",
        "\n",
        "From the above analysis, the following countries were the most hit in terms of the number of persons affected by drought:\n",
        "- Ethiopia\n",
        "- Kenya\n",
        "- Somalia\n",
        "- Zimbabwe\n",
        "- Nigeria.\n",
        "\n",
        "Interestingly, __top 3 of the top 5 countries most Affected were still eastern African countries.__ Why exactly is Eastern Africa most affected by drought?\n",
        "Could it be a geographical factor or as a result of poor emergency response on the part of the government?\n",
        "\n",
        "This question calls for further investigations as our data cannot provide an answer to it!\n"
      ],
      "metadata": {
        "id": "_6bvaodQMGqU"
      }
    },
    {
      "cell_type": "code",
      "execution_count": null,
      "metadata": {
        "id": "zU8iSRgAoX5U"
      },
      "outputs": [],
      "source": [
        "plt.figure(figsize=(5, 6))\n",
        "sns.countplot(data=df, x=\"OFDA Response\")\n",
        "plt.title('Response Frequency of the United States')\n",
        "plt.xlabel(\"OFDA Response\")\n",
        "plt.show()"
      ]
    },
    {
      "cell_type": "code",
      "execution_count": null,
      "metadata": {
        "id": "VogDlG-CoX5W"
      },
      "outputs": [],
      "source": [
        "#countplot to show the Frequecy of disaster\n",
        "df['Associated Types'].value_counts().sort_values().plot(kind='barh')\n",
        "plt.title('Disaster distribution plot')\n",
        "plt.xlabel('Frequency')\n",
        "plt.ylabel('Disaster')\n",
        "plt.show()\n",
        "#It can be observed that the most occuring disaster is Food Shortage, followed by Famine;  It cane be observed that most of drought that happended in Nigeria was as a\n",
        "#result of food shortage or Famine\n"
      ]
    },
    {
      "cell_type": "code",
      "source": [
        "plt.figure(figsize=(10,8))\n",
        "df['Country'].value_counts().sort_values().plot(kind='barh')\n",
        "plt.title('Country and Number of Drought occurence')\n",
        "plt.xlabel('Frequency')\n",
        "plt.ylabel('Country')\n",
        "plt.show()\n",
        "\n",
        "#Somalia and Mozambique have expereiecnce more drought than any other country in Africa since 2000"
      ],
      "metadata": {
        "id": "vdWl5XEFIT4a"
      },
      "execution_count": null,
      "outputs": []
    },
    {
      "cell_type": "code",
      "source": [
        "df[df['Start Year'] == 2022]"
      ],
      "metadata": {
        "id": "e9V0ampzqEN7"
      },
      "execution_count": null,
      "outputs": []
    },
    {
      "cell_type": "code",
      "source": [
        "df['Start Year'].value_counts().sort_values(ascending=True).plot(kind='barh')\n",
        "plt.title('Year their respective number of occurence')\n",
        "plt.xlabel('Frequency')\n",
        "plt.ylabel('Year')\n",
        "plt.show()\n",
        "#2022 recorded the hihest occurence of drought, followed by 2005 and 2013 being the year with the least recor of drought"
      ],
      "metadata": {
        "id": "WxJP0LVUqBvr"
      },
      "execution_count": null,
      "outputs": []
    },
    {
      "cell_type": "code",
      "source": [
        "#pie chart for disaster group\n",
        "x = df['Subregion'].value_counts()\n",
        "plt.pie(x.values,\n",
        "\t\tlabels=x.index,\n",
        "\t\tautopct='%1.1f%%')\n",
        "plt.title('Disaster distribution by Subregion')\n",
        "plt.show()\n",
        "#97.6% of drought that happened in Africa has been from Sub-Saharan Africa and Northern Africa having 2.4%"
      ],
      "metadata": {
        "id": "T_dRP9OnIoOC"
      },
      "execution_count": null,
      "outputs": []
    },
    {
      "cell_type": "code",
      "source": [
        "\n",
        "month_dict = {1.0:'Jan', 2.0:'Feb',3.0:'Mar', 4.:'Apr', 5. : 'May', 6.:'Jun', 7.:'Jul', 8. :'Aug',  9.:'Sep', 10. :'Oct', 11. :'Nov', 12.: 'Dec', 0.0:'Not Specified'}\n",
        "df['Start Month'].replace(month_dict, inplace = True)\n",
        "df['Start Month'].value_counts().sort_values(ascending=False).plot(kind='bar')\n",
        "plt.title('Month and their respective number of occurence')\n",
        "plt.xlabel('Month')\n",
        "plt.ylabel('Frequency')\n",
        "plt.show()\n",
        "#Drough occur mostly in the month of Jan (dry season)"
      ],
      "metadata": {
        "id": "4STI04tPIr-6"
      },
      "execution_count": null,
      "outputs": []
    },
    {
      "cell_type": "markdown",
      "source": [
        "**BIVARIATE**"
      ],
      "metadata": {
        "id": "UlslCSQjiHCy"
      }
    },
    {
      "cell_type": "code",
      "source": [
        "# How many persons were affected in each subregion for the period under review?\n",
        "count_by_subregion = df.groupby(\"UN Sub Region\").sum().reset_index()\n",
        "count_by_subregion"
      ],
      "metadata": {
        "id": "Xy9SQg9RlR-o"
      },
      "execution_count": null,
      "outputs": []
    },
    {
      "cell_type": "code",
      "source": [
        "# compute percentages for each subregion\n",
        "count_by_subregion['Percentage'] = (count_by_subregion['Total Affected'] / sum(count_by_subregion['Total Affected'])) * 100\n",
        "count_by_subregion"
      ],
      "metadata": {
        "id": "ZnMQbJQ28sG3"
      },
      "execution_count": null,
      "outputs": []
    },
    {
      "cell_type": "code",
      "source": [
        "px.pie(data_frame=count_by_subregion, values='Total Affected', names = \"UN Sub Region\", title=\"Number of persons affected per UN Subregion\")"
      ],
      "metadata": {
        "id": "HYhXVkf88vIt"
      },
      "execution_count": null,
      "outputs": []
    },
    {
      "cell_type": "markdown",
      "source": [
        "__OBSERVATION__:\n",
        "The visual above shows that __54.9%__ of person affected come from eastern africa. This means that one in every two persons affected by drought in africa is from eastern africa."
      ],
      "metadata": {
        "id": "J7BfG0lpLm-7"
      }
    },
    {
      "cell_type": "code",
      "source": [
        "count_by_country = df.groupby(\"Country\").sum().sort_values(by='Total Affected').reset_index()\n",
        "count_by_country"
      ],
      "metadata": {
        "id": "GYvTZ-9C8zO8"
      },
      "execution_count": null,
      "outputs": []
    },
    {
      "cell_type": "code",
      "source": [
        "# Create a temporary dataframe containing some columns of our main dataframe\n",
        "# so that we can join them to the aggregated dataframe for the map\n",
        "\n",
        "temp_df = df[['Country', 'UN Sub Region', 'Income group', 'ISO']]\n",
        "temp_df = temp_df.drop_duplicates()\n",
        "temp_df"
      ],
      "metadata": {
        "id": "lReu7YpVGZBZ"
      },
      "execution_count": null,
      "outputs": []
    },
    {
      "cell_type": "code",
      "source": [
        "# Now, we can join our temp_df with the map_df dataframe using the \"Country\" common column:\n",
        "map_df = pd.merge(left=map_df, right=temp_df, on=\"Country\", how='left')\n",
        "map_df"
      ],
      "metadata": {
        "id": "SXERuEmNGbqD"
      },
      "execution_count": null,
      "outputs": []
    },
    {
      "cell_type": "markdown",
      "source": [
        "Now, we have the aggregated table containing other values that we can use for our map.\n",
        "Next, let's group the \"Total Affected\" column into intervals reflecting the severity of occurence:"
      ],
      "metadata": {
        "id": "2C5pyWyRMS4_"
      }
    },
    {
      "cell_type": "code",
      "source": [
        "# Split the \"Total Affected\" column into intervals\n",
        "bin_edges = [0, 5000000, 15000000, 30000000, map_df[\"Total Affected\"].max()]\n",
        "bin_labels = [\"Low Severity (0-5M)\", \"Moderate Severity (>5M - 15M)\", \"High Severity (>15M - 30M)\", \"Critical Severity (>30M)\"]\n",
        "map_df[\"Severity Level\"] = pd.cut(x=map_df[\"Total Affected\"], bins=bin_edges, labels=bin_labels, right=True)\n",
        "map_df.head(1)"
      ],
      "metadata": {
        "id": "EAwXKVY29WMO"
      },
      "execution_count": null,
      "outputs": []
    },
    {
      "cell_type": "code",
      "source": [
        "color_discrete_map = {\n",
        "    \"Critical Severity (>30M)\": \"#A70100\",\n",
        "    \"High Severity (>15M - 30M)\": \"#D93F00\",\n",
        "    \"Moderate Severity (>5M - 15M)\": \"#FD8E2A\",\n",
        "    \"Low Severity (0-5M)\": \"#FFD983\"\n",
        "}\n",
        "\n",
        "map_plot = px.choropleth(data_frame=map_df, locations=\"ISO\", locationmode=\"ISO-3\", scope='africa',\n",
        "              color='Severity Level', color_discrete_map=color_discrete_map,\n",
        "             hover_data=map_df[[\"Severity Level\", \"Total Affected\", \"Income group\", \"UN Sub Region\"]],\n",
        "             height=600, width=800)\n",
        "\n",
        "# update layout\n",
        "map_plot.update_layout(title=\"Drought Severity Level by Country\",\n",
        "                      margin={\"r\":0, \"t\":40, \"l\":0, \"b\":0})\n",
        "map_plot.show()"
      ],
      "metadata": {
        "id": "nmbdwpVo9WHl"
      },
      "execution_count": null,
      "outputs": []
    },
    {
      "cell_type": "code",
      "source": [
        "count_by_income = df.groupby(\"Income group\").sum().reset_index()\n",
        "count_by_income"
      ],
      "metadata": {
        "id": "c_d4wTTMG87-"
      },
      "execution_count": null,
      "outputs": []
    },
    {
      "cell_type": "code",
      "source": [
        "count_by_income['Percentage'] = (count_by_income['Total Affected'] / sum(count_by_income['Total Affected'])) * 100\n",
        "count_by_income"
      ],
      "metadata": {
        "id": "2h8ti5qY-UWu"
      },
      "execution_count": null,
      "outputs": []
    },
    {
      "cell_type": "code",
      "source": [
        "px.bar(data_frame = count_by_income, x = \"Income group\", y = \"Total Affected\", text=\"Percentage\")"
      ],
      "metadata": {
        "id": "L-WhCuXy-UJy"
      },
      "execution_count": null,
      "outputs": []
    },
    {
      "cell_type": "markdown",
      "source": [
        "__OBSERVATION__\n",
        "The bar chart shows that countries with low income were affected more than those in middle income by more than two times! It therefore gives a pointer that the income level of a country most definitely affects the number of persons involved in drought"
      ],
      "metadata": {
        "id": "PUUIPputMdUv"
      }
    },
    {
      "cell_type": "markdown",
      "metadata": {
        "id": "s_Z7n6ikjMnq"
      },
      "source": [
        "Line chart showing the number of people affected by forced migration over time"
      ]
    },
    {
      "cell_type": "code",
      "execution_count": 321,
      "metadata": {
        "id": "QLNc7hwRjrxI"
      },
      "outputs": [],
      "source": [
        "#Group the data by time\n",
        "df_grouped = df.groupby(['Start Year', 'Total Affected'])"
      ]
    },
    {
      "cell_type": "code",
      "execution_count": null,
      "metadata": {
        "id": "pXoP-SIEkUbY"
      },
      "outputs": [],
      "source": [
        "#Calculate the mean number of people affected by forced migration for each time period\n",
        "df_mean = df_grouped.mean()"
      ]
    },
    {
      "cell_type": "code",
      "execution_count": null,
      "metadata": {
        "id": "2NP_MldtknFB"
      },
      "outputs": [],
      "source": [
        "df_mean"
      ]
    },
    {
      "cell_type": "code",
      "execution_count": 324,
      "metadata": {
        "id": "iusxDfg3ktKR"
      },
      "outputs": [],
      "source": [
        "#Reset the index\n",
        "df_mean = df.reset_index()"
      ]
    },
    {
      "cell_type": "code",
      "execution_count": 325,
      "metadata": {
        "id": "FUJJIIahlExC"
      },
      "outputs": [],
      "source": [
        "#Sort the data by time\n",
        "df_mean = df.sort_values(by='Start Year')"
      ]
    },
    {
      "cell_type": "code",
      "execution_count": null,
      "metadata": {
        "id": "iCtB8zt5oX5M"
      },
      "outputs": [],
      "source": [
        "df_mean = df_mean.groupby(\"Start Year\").mean().reset_index()"
      ]
    },
    {
      "cell_type": "code",
      "execution_count": null,
      "metadata": {
        "id": "Fw0mwcBmoX5M"
      },
      "outputs": [],
      "source": [
        "df_mean"
      ]
    },
    {
      "cell_type": "code",
      "execution_count": null,
      "metadata": {
        "id": "R0OT9GNqlXy1"
      },
      "outputs": [],
      "source": [
        "#Create the line chart\n",
        "plt.figure(figsize=(10, 6))\n",
        "plt.plot(df_mean['Start Year'], df_mean['Total Affected'])\n",
        "plt.title('Number of People Affected  over Time')\n",
        "plt.xlabel('Start Year')\n",
        "plt.ylabel('Total Affected')\n",
        "plt.show()"
      ]
    },
    {
      "cell_type": "code",
      "execution_count": null,
      "metadata": {
        "id": "UGYX9fenoX5S"
      },
      "outputs": [],
      "source": [
        "plt.figure(figsize=(10, 6))\n",
        "plt.plot(df_mean['Start Year'], df_mean['CPI'])\n",
        "plt.title('CPI over Time')\n",
        "plt.xlabel('Start Year')\n",
        "plt.ylabel('Consumer Price Index')\n",
        "plt.show()"
      ]
    },
    {
      "cell_type": "code",
      "source": [
        "df.head()"
      ],
      "metadata": {
        "id": "c_ehBvNgHggg"
      },
      "execution_count": null,
      "outputs": []
    },
    {
      "cell_type": "code",
      "execution_count": null,
      "metadata": {
        "id": "AQHHB4b9oX5V"
      },
      "outputs": [],
      "source": [
        "plt.figure(figsize=(10, 6))\n",
        "sns.countplot(data=df, x=\"UN Sub Region\", hue=\"OFDA Response\")\n",
        "plt.title('Response Frequency of the United States per region')\n",
        "plt.xlabel('African Region')\n",
        "plt.show()"
      ]
    },
    {
      "cell_type": "code",
      "source": [
        "df.head(1)"
      ],
      "metadata": {
        "id": "zEMoE1x2kdJb"
      },
      "execution_count": null,
      "outputs": []
    },
    {
      "cell_type": "code",
      "source": [
        "plt.figure(figsize=(10, 6))\n",
        "sns.countplot(data=df[df['Start Month'] != 'Not Specified'], hue=\"UN Sub Region\", x=\"Start Month\")\n",
        "plt.title('Monthly Occurence of Drough per region')\n",
        "plt.xlabel('Month')\n",
        "plt.xticks(rotation=90)\n",
        "plt.show()"
      ],
      "metadata": {
        "id": "Bv_dk5EAkarl"
      },
      "execution_count": null,
      "outputs": []
    },
    {
      "cell_type": "code",
      "execution_count": null,
      "metadata": {
        "id": "Xz1y-YxeoX5V"
      },
      "outputs": [],
      "source": [
        "df[\"Appeal\"].value_counts()"
      ]
    },
    {
      "cell_type": "code",
      "execution_count": null,
      "metadata": {
        "id": "leIbsdXOoX5V"
      },
      "outputs": [],
      "source": [
        "df[\"OFDA Response\"].value_counts()"
      ]
    },
    {
      "cell_type": "code",
      "source": [
        "#distribution of death for each year\n",
        "plt.figure(figsize=(15,5))\n",
        "#df_copy_ana[['Start Year','Total Deaths']].set_index('Start Year').plot()\n",
        "sns.lineplot(data=df, x='Start Year', y='Total Deaths', errorbar=None)\n",
        "plt.title('Total Death with number of Yearly occurence')\n",
        "plt.xlabel('Year')\n",
        "plt.ylabel('Total Death')\n",
        "plt.show()\n",
        "\n",
        "#The total number of death recorded has reduced after a peak in 2010, we really cannot say since this columns has alot of missing values"
      ],
      "metadata": {
        "id": "SU1pJcVmI8Yt"
      },
      "execution_count": null,
      "outputs": []
    },
    {
      "cell_type": "code",
      "source": [
        "#scatter plot for Total Affected and Total Death\n",
        "plt.figure(figsize=(15,8))\n",
        "sns.scatterplot(data=df, x='Total Affected', y=\"Total Deaths\", color='steelblue')\n",
        "plt.title('Total Affected vs Total Death')\n",
        "plt.xlabel('Total Affected')\n",
        "plt.ylabel('Total Deaths')\n",
        "plt.show()"
      ],
      "metadata": {
        "id": "YChKyUpPJCSL"
      },
      "execution_count": null,
      "outputs": []
    },
    {
      "cell_type": "code",
      "source": [
        "#Country anf frequency of Associated Type of disaster\n",
        "_ = pd.crosstab( df['Country'],df['Associated Types'])\n",
        "_.plot(kind=\"barh\", stacked=True, rot=0, figsize=(8, 8) )\n",
        "plt.title('Stacked bar chart of Country and the Associated type of Drought ')\n",
        "plt.xlabel('Frequency')\n",
        "plt.ylabel('Country')\n",
        "plt.show()\n"
      ],
      "metadata": {
        "id": "pWkrgLXqJIuQ"
      },
      "execution_count": null,
      "outputs": []
    },
    {
      "cell_type": "code",
      "source": [
        "#barchart to show the Total Damages spent on disaster\n",
        "country_with_high_death = df.groupby('Country')[['Country', \"Total Deaths\"]].sum()\\\n",
        ".sort_values(by=\"Total Deaths\", ascending=False).reset_index().head(10)\n",
        "country_with_high_death"
      ],
      "metadata": {
        "id": "WmoW7NanJUnW"
      },
      "execution_count": null,
      "outputs": []
    },
    {
      "cell_type": "code",
      "source": [
        "plt.figure(figsize=(15,5))\n",
        "#df[['Start Year','Total Deaths']].set_index('Start Year').plot()\n",
        "sns.lineplot(data=df[df['Country'] == 'Ethiopia'], x='Start Year', y='Total Affected', errorbar=None,color='green' )\n",
        "sns.lineplot(data=df[df['Country'] == 'South Africa'], x='Start Year', y='Total Affected', errorbar=None,color='blue')\n",
        "sns.lineplot(data=df[df['Country'] == 'Kenya'], x='Start Year', y='Total Affected', errorbar=None, color='red')\n",
        "sns.lineplot(data=df[df['Country'] == 'Niger'], x='Start Year', y='Total Affected', errorbar=None, color='purple')\n",
        "sns.lineplot(data=df[df['Country'] == 'Somalia'], x='Start Year', y='Total Affected', errorbar=None, color='orange')\n",
        "plt.legend(labels=['Ethiopia', 'South Africa', 'Kenya', 'Niger', 'Somalia'])\n",
        "plt.title('Yearly distribution plot')\n",
        "plt.xlabel('Year')\n",
        "plt.ylabel('Total AFfected')\n",
        "plt.show()\n",
        "\n"
      ],
      "metadata": {
        "id": "nWOiHaBrJsWh"
      },
      "execution_count": null,
      "outputs": []
    }
  ],
  "metadata": {
    "colab": {
      "provenance": [],
      "include_colab_link": true
    },
    "kernelspec": {
      "display_name": "Python 3 (ipykernel)",
      "language": "python",
      "name": "python3"
    },
    "language_info": {
      "codemirror_mode": {
        "name": "ipython",
        "version": 3
      },
      "file_extension": ".py",
      "mimetype": "text/x-python",
      "name": "python",
      "nbconvert_exporter": "python",
      "pygments_lexer": "ipython3",
      "version": "3.9.13"
    }
  },
  "nbformat": 4,
  "nbformat_minor": 0
}